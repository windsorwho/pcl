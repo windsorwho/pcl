{
  "nbformat": 4,
  "nbformat_minor": 0,
  "metadata": {
    "colab": {
      "name": "pcl_phase_1.ipynb",
      "provenance": [],
      "collapsed_sections": [],
      "mount_file_id": "1fa-CXJDmKPWAMAwK9PxwFbeVD3gACcmA",
      "authorship_tag": "ABX9TyPpeWs/BusVb+Xu7P/8DRYX",
      "include_colab_link": true
    },
    "kernelspec": {
      "name": "python3",
      "display_name": "Python 3"
    },
    "language_info": {
      "name": "python"
    }
  },
  "cells": [
    {
      "cell_type": "markdown",
      "metadata": {
        "id": "view-in-github",
        "colab_type": "text"
      },
      "source": [
        "<a href=\"https://colab.research.google.com/github/windsorwho/pcl/blob/main/pcl_phase_1.ipynb\" target=\"_parent\"><img src=\"https://colab.research.google.com/assets/colab-badge.svg\" alt=\"Open In Colab\"/></a>"
      ]
    },
    {
      "cell_type": "code",
      "execution_count": null,
      "metadata": {
        "colab": {
          "base_uri": "https://localhost:8080/"
        },
        "id": "HPHVVKoIz6X6",
        "outputId": "4f15b824-8213-4d9f-9eb5-556c55137152"
      },
      "outputs": [
        {
          "output_type": "stream",
          "name": "stdout",
          "text": [
            "fatal: destination path 'pcl' already exists and is not an empty directory.\n",
            "Requirement already satisfied: numpy in /usr/local/lib/python3.7/dist-packages (from -r pcl/requirements.txt (line 1)) (1.19.5)\n",
            "Collecting metric_learn\n",
            "  Downloading metric_learn-0.6.2-py2.py3-none-any.whl (64 kB)\n",
            "\u001b[K     |████████████████████████████████| 64 kB 2.2 MB/s \n",
            "\u001b[?25hRequirement already satisfied: matplotlib in /usr/local/lib/python3.7/dist-packages (from -r pcl/requirements.txt (line 3)) (3.2.2)\n",
            "Requirement already satisfied: scipy in /usr/local/lib/python3.7/dist-packages (from -r pcl/requirements.txt (line 4)) (1.4.1)\n",
            "Requirement already satisfied: tqdm in /usr/local/lib/python3.7/dist-packages (from -r pcl/requirements.txt (line 5)) (4.62.3)\n",
            "Requirement already satisfied: scikit-learn>=0.20.3 in /usr/local/lib/python3.7/dist-packages (from metric_learn->-r pcl/requirements.txt (line 2)) (1.0.2)\n",
            "Requirement already satisfied: joblib>=0.11 in /usr/local/lib/python3.7/dist-packages (from scikit-learn>=0.20.3->metric_learn->-r pcl/requirements.txt (line 2)) (1.1.0)\n",
            "Requirement already satisfied: threadpoolctl>=2.0.0 in /usr/local/lib/python3.7/dist-packages (from scikit-learn>=0.20.3->metric_learn->-r pcl/requirements.txt (line 2)) (3.0.0)\n",
            "Requirement already satisfied: pyparsing!=2.0.4,!=2.1.2,!=2.1.6,>=2.0.1 in /usr/local/lib/python3.7/dist-packages (from matplotlib->-r pcl/requirements.txt (line 3)) (3.0.7)\n",
            "Requirement already satisfied: python-dateutil>=2.1 in /usr/local/lib/python3.7/dist-packages (from matplotlib->-r pcl/requirements.txt (line 3)) (2.8.2)\n",
            "Requirement already satisfied: cycler>=0.10 in /usr/local/lib/python3.7/dist-packages (from matplotlib->-r pcl/requirements.txt (line 3)) (0.11.0)\n",
            "Requirement already satisfied: kiwisolver>=1.0.1 in /usr/local/lib/python3.7/dist-packages (from matplotlib->-r pcl/requirements.txt (line 3)) (1.3.2)\n",
            "Requirement already satisfied: six>=1.5 in /usr/local/lib/python3.7/dist-packages (from python-dateutil>=2.1->matplotlib->-r pcl/requirements.txt (line 3)) (1.15.0)\n",
            "Installing collected packages: metric-learn\n",
            "Successfully installed metric-learn-0.6.2\n"
          ]
        }
      ],
      "source": [
        "!git clone https://github.com/windsorwho/pcl.git\n",
        "!pip install -r pcl/requirements.txt"
      ]
    },
    {
      "cell_type": "code",
      "source": [
        "import pcl.pack_features as pack\n",
        "import metric_learn\n",
        "import numpy as np\n",
        "\n",
        "DATA_FILENAME= '/content/drive/MyDrive/ColabData/pcl/dense_data.npz'\n",
        "data = np.load(DATA_FILENAME)\n",
        "\n",
        "nca = metric_learn.NCA(verbose=True)\n",
        "nca.fit(data['features'], data['labels'])\n",
        "X_lmnn = nca.transform(data['features'])\n",
        "pack.plot_tsne(X_lmnn,data['labels'])\n",
        "\n",
        "\n"
      ],
      "metadata": {
        "id": "cjmeY32c5a0c"
      },
      "execution_count": null,
      "outputs": []
    }
  ]
}